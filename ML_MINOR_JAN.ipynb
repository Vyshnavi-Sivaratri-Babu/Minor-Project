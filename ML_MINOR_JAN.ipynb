{
  "nbformat": 4,
  "nbformat_minor": 0,
  "metadata": {
    "colab": {
      "name": "ML-MINOR-JAN.ipynb",
      "provenance": [],
      "collapsed_sections": [],
      "authorship_tag": "ABX9TyMntfcDJmskw4LgMikqqa0u",
      "include_colab_link": true
    },
    "kernelspec": {
      "name": "python3",
      "display_name": "Python 3"
    }
  },
  "cells": [
    {
      "cell_type": "markdown",
      "metadata": {
        "id": "view-in-github",
        "colab_type": "text"
      },
      "source": [
        "<a href=\"https://colab.research.google.com/github/Vyshnavi-Sivaratri-Babu/Minor-Project/blob/main/ML_MINOR_JAN.ipynb\" target=\"_parent\"><img src=\"https://colab.research.google.com/assets/colab-badge.svg\" alt=\"Open In Colab\"/></a>"
      ]
    },
    {
      "cell_type": "code",
      "metadata": {
        "id": "v7eXinnl1GGn"
      },
      "source": [
        "#image classification"
      ],
      "execution_count": null,
      "outputs": []
    },
    {
      "cell_type": "code",
      "metadata": {
        "colab": {
          "base_uri": "https://localhost:8080/"
        },
        "id": "cH27sNfNzC4E",
        "outputId": "10af29e3-50e6-4fa3-a24a-2b1531322c06"
      },
      "source": [
        "!pip install bing-image-downloader"
      ],
      "execution_count": 1,
      "outputs": [
        {
          "output_type": "stream",
          "text": [
            "Collecting bing-image-downloader\n",
            "  Downloading https://files.pythonhosted.org/packages/0d/bf/537a61030b84ae4cd5022d5c7b014fd9bc3ce7c02358919153a6658a61d3/bing_image_downloader-1.0.4-py3-none-any.whl\n",
            "Installing collected packages: bing-image-downloader\n",
            "Successfully installed bing-image-downloader-1.0.4\n"
          ],
          "name": "stdout"
        }
      ]
    },
    {
      "cell_type": "code",
      "metadata": {
        "id": "hBLyGsYjzLPh"
      },
      "source": [
        "!mkdir data"
      ],
      "execution_count": 2,
      "outputs": []
    },
    {
      "cell_type": "code",
      "metadata": {
        "colab": {
          "base_uri": "https://localhost:8080/"
        },
        "id": "BvUDDANnzUJP",
        "outputId": "e264b162-e844-416e-fef7-748cce6225b7"
      },
      "source": [
        "from bing_image_downloader import downloader\r\n",
        "downloader.download(\"cake\",limit=30,output_dir='data',adult_filter_off=True)"
      ],
      "execution_count": 3,
      "outputs": [
        {
          "output_type": "stream",
          "text": [
            "\n",
            "\n",
            "[!!]Indexing page: 1\n",
            "\n",
            "[%] Indexed 30 Images on Page 1.\n",
            "\n",
            "===============================================\n",
            "\n",
            "[%] Downloading Image #1 from https://livforcake.com/wp-content/uploads/2017/07/black-forest-cake-4.jpg\n",
            "[%] File Downloaded !\n",
            "\n",
            "[%] Downloading Image #2 from https://authentiquebites.files.wordpress.com/2017/01/i-26.jpg\n",
            "[%] File Downloaded !\n",
            "\n",
            "[%] Downloading Image #3 from https://cafedelites.com/wp-content/uploads/2020/04/BEST-Carrot-Cake-IMAGE-1.jpg\n",
            "[%] File Downloaded !\n",
            "\n",
            "[%] Downloading Image #4 from http://www.comoinstyle.com/magazine/wp-content/uploads/2014/03/sweet-inspirations-having-your-wedding-cake03.jpg\n",
            "[%] File Downloaded !\n",
            "\n",
            "[%] Downloading Image #5 from https://1.bp.blogspot.com/-2nueFoiOIVU/UfxDYEVz1AI/AAAAAAAAAXY/wpMTOp8EPAU/s1600/019.JPG\n",
            "[%] File Downloaded !\n",
            "\n",
            "[%] Downloading Image #6 from https://i1.wp.com/www.wyldflour.com/wp-content/uploads/2017/06/Chocolate-Birthday-Cake-5.jpg\n",
            "[%] File Downloaded !\n",
            "\n",
            "[%] Downloading Image #7 from https://cdn001.cakecentral.com/gallery/2017/02/900_unicorn-cake-9275145IYGd.JPG\n",
            "[%] File Downloaded !\n",
            "\n",
            "[%] Downloading Image #8 from https://healthycookingsource.com/wp-content/uploads/2020/03/vanilla-crazy-cake.jpg\n",
            "[%] File Downloaded !\n",
            "\n",
            "[%] Downloading Image #9 from https://cupfulofkale.com/wp-content/uploads/2019/09/Vegan-Blackberry-and-Gin-Cake-Cut-Open.jpeg\n",
            "[%] File Downloaded !\n",
            "\n",
            "[%] Downloading Image #10 from https://www.thelittleepicurean.com/wp-content/uploads/2017/06/buttercream-flowers-cake-5-650x975.jpg\n",
            "[%] File Downloaded !\n",
            "\n",
            "[%] Downloading Image #11 from https://www.gravetics.com/wp-content/uploads/2017/04/cakes-cakesdaily-cakearts-cakesporn-cupcakesporn.jpg\n",
            "[%] File Downloaded !\n",
            "\n",
            "[%] Downloading Image #12 from https://pastrieslikeapro.com/wp-content/uploads/2016/05/Chocolate-Strawberry-Ruffle-Cake-2-1-of-1-1.jpg\n",
            "[%] File Downloaded !\n",
            "\n",
            "[%] Downloading Image #13 from https://sweetandsavorymeals.com/wp-content/uploads/2019/12/Spice-Cake-5.jpg\n",
            "[%] File Downloaded !\n",
            "\n",
            "[%] Downloading Image #14 from https://www.halfbakedharvest.com/wp-content/uploads/2018/06/Blackberry-Lavender-Naked-Cake-with-White-Chocolate-Buttercream-1.jpg\n",
            "[%] File Downloaded !\n",
            "\n",
            "[%] Downloading Image #15 from https://www.christinascucina.com/wp-content/uploads/2016/02/IMG_2235-scaled.jpg\n",
            "[%] File Downloaded !\n",
            "\n",
            "[%] Downloading Image #16 from http://www.wellmadeheart.com/wp-content/uploads/2017/04/manicake.jpg\n",
            "[%] File Downloaded !\n",
            "\n",
            "[%] Downloading Image #17 from https://sugarshowcase.com/sites/default/files/styles/cake-full-size/public/cakes/DSCN1493.JPG\n",
            "[%] File Downloaded !\n",
            "\n",
            "[%] Downloading Image #18 from http://i1.wp.com/www.thebrickkitchen.com/wp-content/uploads/2015/08/Chocolate-Caramel-Popcorn-Cake-29.jpg\n",
            "[%] File Downloaded !\n",
            "\n",
            "[%] Downloading Image #19 from https://cdn.copymethat.com/media/orig_kahlua_chocolate_cake_with_kahlua_butter_20200219031616182902t6umj.jpg\n",
            "[%] File Downloaded !\n",
            "\n",
            "[%] Downloading Image #20 from https://www.kingkullen.com/wp-content/uploads/2015/10/Nutella-Cake.jpg\n",
            "[%] File Downloaded !\n",
            "\n",
            "[%] Downloading Image #21 from https://www.alsothecrumbsplease.com/wp-content/uploads/2019/06/Smores-Cake-14.jpg\n",
            "[%] File Downloaded !\n",
            "\n",
            "[%] Downloading Image #22 from http://www.dangerously-delicious.com/wp-content/uploads/2015/09/Caramel-Apple-Spice-Cake1.jpg\n",
            "[%] File Downloaded !\n",
            "\n",
            "[%] Downloading Image #23 from http://www.italianbakerysouthwindsor.com/wp/wp-content/uploads/2017/07/451.jpg\n",
            "[%] File Downloaded !\n",
            "\n",
            "[%] Downloading Image #24 from http://blogs.columbian.com/zest/wp-content/uploads/sites/55/2013/10/cake1.jpg\n",
            "[%] File Downloaded !\n",
            "\n",
            "[%] Downloading Image #25 from http://www.thecomfortofcooking.com/wp-content/uploads/2020/06/Easy_Rainbow_Cake-4-scaled.jpg\n",
            "[%] File Downloaded !\n",
            "\n",
            "[%] Downloading Image #26 from http://www.promisedlanddairy.com/wp-content/uploads/2018/07/Chocolate-Velvet-Cake.jpg\n",
            "[%] File Downloaded !\n",
            "\n",
            "[%] Downloading Image #27 from https://whiteflowercake.com/wp-content/uploads/2017/01/webvintage2-1.jpg\n",
            "[%] File Downloaded !\n",
            "\n",
            "[%] Downloading Image #28 from https://cdn001.cakecentral.com/gallery/2015/03/900_779496K2ju_autumn-wedding-cake.jpg\n",
            "[%] File Downloaded !\n",
            "\n",
            "[%] Downloading Image #29 from https://www.munatycooking.com/wp-content/uploads/2018/08/Red-velvet-cake-recipe-5.jpg\n",
            "[%] File Downloaded !\n",
            "\n",
            "[%] Downloading Image #30 from https://weknowyourdreams.com/images/cake/cake-07.jpg\n",
            "[!] Issue getting: https://weknowyourdreams.com/images/cake/cake-07.jpg\n",
            "[!] Error:: <urlopen error [SSL: CERTIFICATE_VERIFY_FAILED] certificate verify failed (_ssl.c:852)>\n",
            "\n",
            "\n",
            "[!!]Indexing page: 2\n",
            "\n",
            "[%] Indexed 35 Images on Page 2.\n",
            "\n",
            "===============================================\n",
            "\n",
            "[%] Downloading Image #30 from https://pastrieslikeapro.com/wp-content/uploads/2016/05/Chocolate-Strawberry-Ruffle-Cake-2-1-of-1-1.jpg\n",
            "[%] File Downloaded !\n",
            "\n",
            "\n",
            "\n",
            "[%] Done. Downloaded 30 images.\n",
            "\n",
            "===============================================\n",
            "\n"
          ],
          "name": "stdout"
        }
      ]
    },
    {
      "cell_type": "code",
      "metadata": {
        "colab": {
          "base_uri": "https://localhost:8080/"
        },
        "id": "RZLTCeRu0joB",
        "outputId": "6655a477-5abd-4ab1-a561-9204349e5a18"
      },
      "source": [
        "downloader.download(\"fried rice\",limit=30,output_dir='data',adult_filter_off=True)"
      ],
      "execution_count": 4,
      "outputs": [
        {
          "output_type": "stream",
          "text": [
            "\n",
            "\n",
            "[!!]Indexing page: 1\n",
            "\n",
            "[%] Indexed 30 Images on Page 1.\n",
            "\n",
            "===============================================\n",
            "\n",
            "[%] Downloading Image #1 from https://www.pumpkinnspice.com/wp-content/uploads/2018/03/easy-fried-rice-5.jpg\n",
            "[%] File Downloaded !\n",
            "\n",
            "[%] Downloading Image #2 from https://www.cookingclassy.com/wp-content/uploads/2018/03/chicken-fried-rice-2.jpg\n",
            "[%] File Downloaded !\n",
            "\n",
            "[%] Downloading Image #3 from https://shopqualityfoods.com/wp-content/uploads/2019/06/Cauliflower-Fried-Rice-LEAD-2-1.jpg\n",
            "[%] File Downloaded !\n",
            "\n",
            "[%] Downloading Image #4 from https://healthynibblesandbits.com/wp-content/uploads/2018/02/Egg-Fried-Rice-5.jpg\n",
            "[%] File Downloaded !\n",
            "\n",
            "[%] Downloading Image #5 from https://www.thegunnysack.com/wp-content/uploads/2019/08/Pork-Fried-Rice.jpg\n",
            "[%] File Downloaded !\n",
            "\n",
            "[%] Downloading Image #6 from https://www.jessicagavin.com/wp-content/uploads/2018/09/fried-rice-7.jpg\n",
            "[%] File Downloaded !\n",
            "\n",
            "[%] Downloading Image #7 from https://www.mustlovehome.com/wp-content/uploads/2016/06/Fried-Rice-1.jpg\n",
            "[%] File Downloaded !\n",
            "\n",
            "[%] Downloading Image #8 from https://healthynibblesandbits.com/wp-content/uploads/2018/02/Egg-Fried-Rice-10.jpg\n",
            "[%] File Downloaded !\n",
            "\n",
            "[%] Downloading Image #9 from http://nottooshabbygabby.com/wp-content/uploads/2015/12/vegetable-fried-rice.jpg\n",
            "[%] File Downloaded !\n",
            "\n",
            "[%] Downloading Image #10 from http://cookieandkate.com/images/2015/02/thai-pineapple-fried-rice-recipe-1.jpg\n",
            "[%] File Downloaded !\n",
            "\n",
            "[%] Downloading Image #11 from http://teaspoonofgoodness.com/wp-content/uploads/2016/02/fried-rice-final-2-.jpg\n",
            "[%] File Downloaded !\n",
            "\n",
            "[%] Downloading Image #12 from https://sweetandsavorymeals.com/wp-content/uploads/2019/12/Shrimp-Fried-Rice-2.jpg\n",
            "[%] File Downloaded !\n",
            "\n",
            "[%] Downloading Image #13 from https://www.acouplecooks.com/wp-content/uploads/2020/06/Fried-Rice-007.jpg\n",
            "[%] File Downloaded !\n",
            "\n",
            "[%] Downloading Image #14 from https://www.aspicyperspective.com/wp-content/uploads/2018/02/pork-fried-rice-recipe-100.jpg\n",
            "[%] File Downloaded !\n",
            "\n",
            "[%] Downloading Image #15 from https://littlespicejar.com/wp-content/uploads/2018/01/Quick-Kimchi-Fried-Rice-9-710x1065.jpg\n",
            "[%] File Downloaded !\n",
            "\n",
            "[%] Downloading Image #16 from https://www.yellowblissroad.com/wp-content/uploads/2016/04/Pineapple-Fried-Rice-8.jpg\n",
            "[%] File Downloaded !\n",
            "\n",
            "[%] Downloading Image #17 from http://www.spendwithpennies.com/wp-content/uploads/2016/02/fried-rice-recipe-22.jpg\n",
            "[%] File Downloaded !\n",
            "\n",
            "[%] Downloading Image #18 from https://www.thefrugalsouth.com/wp-content/uploads/2018/02/easy-fried-rice.jpg\n",
            "[%] File Downloaded !\n",
            "\n",
            "[%] Downloading Image #19 from http://simplysohealthy.com/wp-content/uploads/2018/01/Fried-Rice-V2.jpg\n",
            "[%] File Downloaded !\n",
            "\n",
            "[%] Downloading Image #20 from https://lilluna.com/wp-content/uploads/2017/05/fried-rice-final-resize-2.jpg\n",
            "[%] File Downloaded !\n",
            "\n",
            "[%] Downloading Image #21 from https://therecipecritic.com/wp-content/uploads/2014/03/chicken_fried_rice3.jpg\n",
            "[%] File Downloaded !\n",
            "\n",
            "[%] Downloading Image #22 from https://strengthandsunshine.com/wp-content/uploads/2018/03/Classic-Vegetable-Fried-Rice-2.jpg\n",
            "[%] File Downloaded !\n",
            "\n",
            "[%] Downloading Image #23 from http://www.lecremedelacrumb.com/wp-content/uploads/2015/01/fried-rice-2.jpg\n",
            "[%] File Downloaded !\n",
            "\n",
            "[%] Downloading Image #24 from http://jennifercooks.com/wp-content/uploads/2016/07/hibachi-fried-rice-recipe-2.jpg\n",
            "[%] File Downloaded !\n",
            "\n",
            "[%] Downloading Image #25 from https://teaspoonofgoodness.com/wp-content/uploads/2016/02/fried-rice-process-1.jpg\n",
            "[%] File Downloaded !\n",
            "\n",
            "[%] Downloading Image #26 from https://www.wellplated.com/wp-content/uploads/2019/09/How-to-Make-Fried-Rice-at-Home.jpg\n",
            "[%] File Downloaded !\n",
            "\n",
            "[%] Downloading Image #27 from https://poshjournal.com/wp-content/uploads/2019/06/fried-rice-recipe-02.jpg\n",
            "[%] File Downloaded !\n",
            "\n",
            "[%] Downloading Image #28 from https://foodfolksandfun.net/wp-content/uploads/2011/02/Fried-Rice.jpg\n",
            "[%] File Downloaded !\n",
            "\n",
            "[%] Downloading Image #29 from https://www.createnourishlove.com/wp-content/uploads/2017/06/IMG_4438.jpg\n",
            "[%] File Downloaded !\n",
            "\n",
            "[%] Downloading Image #30 from https://www.gimmesomeoven.com/wp-content/uploads/2014/03/How-To-Make-Fried-Rice-Recipe-2.jpg\n",
            "[%] File Downloaded !\n",
            "\n"
          ],
          "name": "stdout"
        }
      ]
    },
    {
      "cell_type": "code",
      "metadata": {
        "colab": {
          "base_uri": "https://localhost:8080/"
        },
        "id": "FZYDFRwT2IdH",
        "outputId": "fa98f5da-e640-49bc-d6f1-47f574a04f8e"
      },
      "source": [
        "downloader.download(\"kfc chicken\",limit=30,output_dir='data',adult_filter_off=True)"
      ],
      "execution_count": 5,
      "outputs": [
        {
          "output_type": "stream",
          "text": [
            "\n",
            "\n",
            "[!!]Indexing page: 1\n",
            "\n",
            "[%] Indexed 30 Images on Page 1.\n",
            "\n",
            "===============================================\n",
            "\n",
            "[%] Downloading Image #1 from http://dinnerthendessert.com/wp-content/uploads/2016/08/KFC-Original-Recipe-Chicken-5.jpg\n",
            "[%] File Downloaded !\n",
            "\n",
            "[%] Downloading Image #2 from https://upload.wikimedia.org/wikipedia/commons/thumb/e/ec/KFC_Original_Recipe_chicken_in_bucket.jpg/1200px-KFC_Original_Recipe_chicken_in_bucket.jpg\n",
            "[%] File Downloaded !\n",
            "\n",
            "[%] Downloading Image #3 from https://cbsnews1.cbsistatic.com/hub/i/2017/04/07/bb324372-e8a3-4f38-a77d-539df9f0c7bc/chicken-istock-494788722.jpg\n",
            "[%] File Downloaded !\n",
            "\n",
            "[%] Downloading Image #4 from https://www.foodbusinessnews.net/ext/resources/FBN-Features/12/KFCBucket_Lead.jpg?1544200298\n",
            "[%] File Downloaded !\n",
            "\n",
            "[%] Downloading Image #5 from http://fc06.deviantart.net/fs70/f/2010/168/9/e/KFC_Chicken_by_hitchhawk.jpg\n",
            "[%] File Downloaded !\n",
            "\n",
            "[%] Downloading Image #6 from https://www.asiaone.com/sites/default/files/original_images/May2020/KFC images.jpg\n",
            "[!] Issue getting: https://www.asiaone.com/sites/default/files/original_images/May2020/KFC images.jpg\n",
            "[!] Error:: URL can't contain control characters. '/sites/default/files/original_images/May2020/KFC images.jpg' (found at least ' ')\n",
            "[%] Downloading Image #6 from https://i.ytimg.com/vi/2LriVst4bzI/maxresdefault.jpg\n",
            "[%] File Downloaded !\n",
            "\n",
            "[%] Downloading Image #7 from https://bakeatmidnite.com/wp-content/uploads/2016/01/kfc-copycat-fried-chicken-1-0.jpg\n",
            "[%] File Downloaded !\n",
            "\n",
            "[%] Downloading Image #8 from https://img3.mashed.com/img/gallery/this-is-why-kfcs-fried-chicken-is-so-delicious/intro-1560197518.jpg\n",
            "[%] File Downloaded !\n",
            "\n",
            "[%] Downloading Image #9 from https://www.englishspectrum.com/wp-content/uploads/2014/03/korean-fried-chicken.jpg\n",
            "[%] File Downloaded !\n",
            "\n",
            "[%] Downloading Image #10 from https://www.bravotv.com/sites/bravo/files/2019-09/kfc-vegan-fried-chicken.jpg\n",
            "[%] File Downloaded !\n",
            "\n",
            "[%] Downloading Image #11 from https://bakeatmidnite.com/wp-content/uploads/2016/01/krc-copycat-fried-chicken-pin.jpg\n",
            "[%] File Downloaded !\n",
            "\n",
            "[%] Downloading Image #12 from https://3apq7g38q3kw2yn3fx4bojii-wpengine.netdna-ssl.com/wp-content/uploads/2017/05/72301202_Kentucky-Fried-Chicken.jpg\n",
            "[%] File Downloaded !\n",
            "\n",
            "[%] Downloading Image #13 from https://pixel.nymag.com/imgs/daily/grub/2017/04/07/07-kfc-chicken-bucket.w1200.h630.jpg\n",
            "[Error]Invalid image, not saving https://pixel.nymag.com/imgs/daily/grub/2017/04/07/07-kfc-chicken-bucket.w1200.h630.jpg\n",
            "\n",
            "[!] Issue getting: https://pixel.nymag.com/imgs/daily/grub/2017/04/07/07-kfc-chicken-bucket.w1200.h630.jpg\n",
            "[!] Error:: No active exception to reraise\n",
            "[%] Downloading Image #13 from https://m0.joe.co.uk/wp-content/uploads/2017/04/20171351/KFC_Malaysia_Hot_Wings_fried_chicken.jpg\n",
            "[%] File Downloaded !\n",
            "\n",
            "[%] Downloading Image #14 from http://hipnewjersey.com/wp-content/uploads/2016/07/FRIED-CHICKEN.jpg\n",
            "[%] File Downloaded !\n",
            "\n",
            "[%] Downloading Image #15 from https://keviniscooking.com/wp-content/uploads/2017/03/My-Oven-Fried-Chicken-KFC-Copycat-square2.jpg\n",
            "[%] File Downloaded !\n",
            "\n",
            "[%] Downloading Image #16 from https://www.wikihow.com/images/8/8f/Make-KFC-Original-Fried-Chicken-Intro.jpg\n",
            "[%] File Downloaded !\n",
            "\n",
            "[%] Downloading Image #17 from https://assets.epicurious.com/photos/57c44636082060f11022b55e/16:9/w_2560,c_limit/shutterstock_368008064.jpg\n",
            "[%] File Downloaded !\n",
            "\n",
            "[%] Downloading Image #18 from https://cdn.thewhoot.com/wp-content/uploads/2017/06/KFC-Chicken-.jpg\n",
            "[%] File Downloaded !\n",
            "\n",
            "[%] Downloading Image #19 from https://asianparent-assets-sg.dexecure.net/wp-content/uploads/sites/12/2020/05/fried-chicken-picture-id179724975.jpg\n",
            "[%] File Downloaded !\n",
            "\n",
            "[%] Downloading Image #20 from https://www.ntd.com/assets/uploads/2019/07/KFC-drumsticks-in-a-bucket-900x506.jpg\n",
            "[%] File Downloaded !\n",
            "\n",
            "[%] Downloading Image #21 from https://www.victoriabuzz.com/wp-content/uploads/2019/01/popcorn-chicken-kfc_canada-instagram.jpg\n",
            "[%] File Downloaded !\n",
            "\n",
            "[%] Downloading Image #22 from https://d1jie5o4kjowzg.cloudfront.net/multiple-story-images/kfc_02.jpg?IZc0uenSsjgaJRJkKhaWY7jBrZdiv5H9\n",
            "[%] File Downloaded !\n",
            "\n",
            "[%] Downloading Image #23 from http://barfblog.com/wp-content/uploads/2015/03/kfc.chicken.jpeg\n",
            "[%] File Downloaded !\n",
            "\n",
            "[%] Downloading Image #24 from https://media.popculture.com/2018/06/kfc-original-recipe-chicken-20039385.jpeg\n",
            "[%] File Downloaded !\n",
            "\n",
            "[%] Downloading Image #25 from https://img1.mashed.com/img/gallery/kfc-chicken-copycat-recipe/intro-1565810304.jpg\n",
            "[%] File Downloaded !\n",
            "\n",
            "[%] Downloading Image #26 from http://glutenfreeonashoestring.com/wp-content/uploads/2014/07/chicken-breast.jpg\n",
            "[%] File Downloaded !\n",
            "\n",
            "[%] Downloading Image #27 from https://www.wearegurgaon.com/wp-content/uploads/2017/07/kfc-chicken-gurgaon.jpg\n",
            "[%] File Downloaded !\n",
            "\n",
            "[%] Downloading Image #28 from https://cdn.indianhealthyrecipes.com/wp-content/uploads/2014/11/kfc-chicken-recipe.jpg\n",
            "[!] Issue getting: https://cdn.indianhealthyrecipes.com/wp-content/uploads/2014/11/kfc-chicken-recipe.jpg\n",
            "[!] Error:: hostname 'cdn.indianhealthyrecipes.com' doesn't match either of 'indianhealthyrecipes.com', 'www.indianhealthyrecipes.com'\n",
            "\n",
            "\n",
            "[!!]Indexing page: 2\n",
            "\n",
            "[%] Indexed 35 Images on Page 2.\n",
            "\n",
            "===============================================\n",
            "\n",
            "[%] Downloading Image #28 from http://dinnerthendessert.com/wp-content/uploads/2016/08/KFC-Original-Recipe-Chicken-5.jpg\n",
            "[%] File Downloaded !\n",
            "\n",
            "[%] Downloading Image #29 from https://www.asiaone.com/sites/default/files/original_images/May2020/KFC images.jpg\n",
            "[!] Issue getting: https://www.asiaone.com/sites/default/files/original_images/May2020/KFC images.jpg\n",
            "[!] Error:: URL can't contain control characters. '/sites/default/files/original_images/May2020/KFC images.jpg' (found at least ' ')\n",
            "[%] Downloading Image #29 from https://www.foodbusinessnews.net/ext/resources/FBN-Features/12/KFCBucket_Lead.jpg?1544200298\n",
            "[%] File Downloaded !\n",
            "\n",
            "[%] Downloading Image #30 from https://upload.wikimedia.org/wikipedia/commons/thumb/e/ec/KFC_Original_Recipe_chicken_in_bucket.jpg/1200px-KFC_Original_Recipe_chicken_in_bucket.jpg\n",
            "[%] File Downloaded !\n",
            "\n",
            "\n",
            "\n",
            "[%] Done. Downloaded 30 images.\n",
            "\n",
            "===============================================\n",
            "\n"
          ],
          "name": "stdout"
        }
      ]
    },
    {
      "cell_type": "code",
      "metadata": {
        "colab": {
          "base_uri": "https://localhost:8080/"
        },
        "id": "gOl9H6Y42Yn6",
        "outputId": "1f094ae6-c58f-48e6-ea44-ff1caa45bd13"
      },
      "source": [
        "downloader.download(\"coca cola drink\",limit=30,output_dir='data',adult_filter_off=True)"
      ],
      "execution_count": 6,
      "outputs": [
        {
          "output_type": "stream",
          "text": [
            "\n",
            "\n",
            "[!!]Indexing page: 1\n",
            "\n",
            "[%] Indexed 30 Images on Page 1.\n",
            "\n",
            "===============================================\n",
            "\n",
            "[%] Downloading Image #1 from https://www.clickndrink.co.uk/wp-content/uploads/2020/03/58310023.jpg\n",
            "[%] File Downloaded !\n",
            "\n",
            "[%] Downloading Image #2 from https://sollykramersparkhurst.co.za/wp-content/uploads/2017/12/COCA-COLA-Soft-Drink-6-x-2l-.jpg\n",
            "[Error]Invalid image, not saving https://sollykramersparkhurst.co.za/wp-content/uploads/2017/12/COCA-COLA-Soft-Drink-6-x-2l-.jpg\n",
            "\n",
            "[!] Issue getting: https://sollykramersparkhurst.co.za/wp-content/uploads/2017/12/COCA-COLA-Soft-Drink-6-x-2l-.jpg\n",
            "[!] Error:: No active exception to reraise\n",
            "[%] Downloading Image #2 from https://cdn-image.foodandwine.com/sites/default/files/styles/4_3_horizontal_-_1200x900/public/1569963157/coca-cola-energy-drink-FT-BLOG0919.jpg?itok=rq5vrlul\n",
            "[%] File Downloaded !\n",
            "\n",
            "[%] Downloading Image #3 from https://s11284.pcdn.co/wp-content/uploads/2017/01/coca-cola.jpg\n",
            "[%] File Downloaded !\n",
            "\n",
            "[%] Downloading Image #4 from https://i.ytimg.com/vi/DvWFwRF3VEo/maxresdefault.jpg\n",
            "[%] File Downloaded !\n",
            "\n",
            "[%] Downloading Image #5 from https://www.gretnagreen.com/components/com_virtuemart/shop_image/product/1da37d392a6e3325d97a323660a82e9d.jpg\n",
            "[!] Issue getting: https://www.gretnagreen.com/components/com_virtuemart/shop_image/product/1da37d392a6e3325d97a323660a82e9d.jpg\n",
            "[!] Error:: HTTP Error 403: Forbidden\n",
            "[%] Downloading Image #5 from https://cdn.bmstores.co.uk/images/hpcProductImage/imgFull/340801-coca-cola-classic-4pk-250ml-2.jpg\n",
            "[%] File Downloaded !\n",
            "\n",
            "[%] Downloading Image #6 from https://www.cfacdn.com/img/order/COM/Menu_Refresh/Drinks/Drinks PDP/_0000s_0022_Feed_Menu_0000_Drinks_Coca-cola.png\n",
            "[!] Issue getting: https://www.cfacdn.com/img/order/COM/Menu_Refresh/Drinks/Drinks PDP/_0000s_0022_Feed_Menu_0000_Drinks_Coca-cola.png\n",
            "[!] Error:: URL can't contain control characters. '/img/order/COM/Menu_Refresh/Drinks/Drinks PDP/_0000s_0022_Feed_Menu_0000_Drinks_Coca-cola.png' (found at least ' ')\n",
            "[%] Downloading Image #6 from https://www.americansweets.co.uk/image/cache/catalog/american-soda/coca-cola/coca-cola-classic-can-800x800.png\n",
            "[%] File Downloaded !\n",
            "\n",
            "[%] Downloading Image #7 from https://cdn-a.william-reed.com/var/wrbm_gb_food_pharma/storage/images/9/8/7/1/2251789-7-eng-GB/Coca-Cola-Enterprises-in-fizzy-drink-launch.jpg\n",
            "[%] File Downloaded !\n",
            "\n",
            "[%] Downloading Image #8 from https://i5.walmartimages.com/asr/c0ed0242-9d01-4e40-a05f-6290a531f3c0.26c51e7ca86dfa1d8197d1d276d6a4b6.jpeg\n",
            "[%] File Downloaded !\n",
            "\n",
            "[%] Downloading Image #9 from https://manofmany.com/wp-content/uploads/2019/06/coca-cola-energy-2.jpg\n",
            "[%] File Downloaded !\n",
            "\n",
            "[%] Downloading Image #10 from https://get.pxhere.com/photo/food-red-drink-coca-cola-cola-soft-drink-carbonated-soft-drinks-22614.jpg\n",
            "[Error]Invalid image, not saving https://get.pxhere.com/photo/food-red-drink-coca-cola-cola-soft-drink-carbonated-soft-drinks-22614.jpg\n",
            "\n",
            "[!] Issue getting: https://get.pxhere.com/photo/food-red-drink-coca-cola-cola-soft-drink-carbonated-soft-drinks-22614.jpg\n",
            "[!] Error:: No active exception to reraise\n",
            "[%] Downloading Image #10 from https://cdn.bmstores.co.uk/images/hpcProductImage/imgFull/267678-Coca-Cola-6x330ml.jpg\n",
            "[%] File Downloaded !\n",
            "\n",
            "[%] Downloading Image #11 from https://ml0co0iaphua.i.optimole.com/JAgwYyw-8_bl-q5b/w:1000/h:1000/q:auto/https://gharstuff.com/wp-content/uploads/2018/03/coca-cola.jpg\n",
            "[%] File Downloaded !\n",
            "\n",
            "[%] Downloading Image #12 from https://cdn.vox-cdn.com/thumbor/aDPGaesmscw_00wHSqaKapbyo20=/0x0:940x456/1200x800/filters:focal(395x153:545x303)/cdn.vox-cdn.com/uploads/chorus_image/image/65370382/Coke_Energy_Lineup.0.jpg\n",
            "[%] File Downloaded !\n",
            "\n",
            "[%] Downloading Image #13 from https://canmuseum.com/Staging/Images/Cans/36205L.jpg\n",
            "[%] File Downloaded !\n",
            "\n",
            "[%] Downloading Image #14 from https://img3.zakaz.ua/20180611.1528714828.ad72436478c_2018-06-11_Ucat/20180611.1528714828.SNCPSG10.obj.0.1.jpg.oe.jpg.pf.jpg.1350nowm.jpg.1350x.jpg\n",
            "[%] File Downloaded !\n",
            "\n",
            "[%] Downloading Image #15 from https://www.frshle.com/wp-content/uploads/2020/07/Coca-cola.jpg\n",
            "[%] File Downloaded !\n",
            "\n",
            "[%] Downloading Image #16 from https://img3.zakaz.ua/12052020.1589297884.ad72436478c_2020-05-12_Tatyana_L/12052020.1589297884.SNCPSG10.obj.0.1.jpg.oe.jpg.pf.jpg.1350nowm.jpg.1350x.jpg\n",
            "[%] File Downloaded !\n",
            "\n",
            "[%] Downloading Image #17 from http://yaffa-cdn.s3.amazonaws.com/yaffadsp/images/dmImage/StandardImage/coca-cola-energy-right-web2.jpg\n",
            "[%] File Downloaded !\n",
            "\n",
            "[%] Downloading Image #18 from https://cdn.bmstores.co.uk/images/hpcProductImage/imgFull/304668-coca-cola-3l.jpg\n",
            "[%] File Downloaded !\n",
            "\n",
            "[%] Downloading Image #19 from https://www.doiberica.com/wp-content/uploads/2018/04/Coca-Cola-Zero-330ml.jpg\n",
            "[%] File Downloaded !\n",
            "\n",
            "[%] Downloading Image #20 from https://www.scienceabc.com/wp-content/uploads/2016/03/coca-dew.jpg\n",
            "[%] File Downloaded !\n",
            "\n",
            "[%] Downloading Image #21 from https://img2.zakaz.ua/20150409.1428695016.ad72436478c_2015-04-10_Evgeniy/20150409.1428695016.SNCPSG10.obj.0.1.jpg.oe.jpg.pf.jpg.1350nowm.jpg.1350x.jpg\n",
            "[%] File Downloaded !\n",
            "\n",
            "[%] Downloading Image #22 from https://i1.wp.com/myconveniencestore.ca/wp-content/uploads/2018/11/original-66.jpeg?fit=912%2C912&amp;ssl=1\n",
            "[%] File Downloaded !\n",
            "\n",
            "[%] Downloading Image #23 from https://i5.walmartimages.com/asr/4240a39b-faf5-4bb7-8960-db6312b2142f_5.61bb25d8bc0cfb481705629d21eda3cf.jpeg\n",
            "[%] File Downloaded !\n",
            "\n",
            "[%] Downloading Image #24 from http://i3.mirror.co.uk/incoming/article834563.ece/ALTERNATES/s615b/Coca%20Cola%20can\n",
            "[%] File Downloaded !\n",
            "\n",
            "[%] Downloading Image #25 from https://www.clickndrink.co.uk/wp-content/uploads/2020/03/58300019.jpg\n",
            "[%] File Downloaded !\n",
            "\n",
            "[%] Downloading Image #26 from https://www.foodbusinessnews.net/ext/resources/2019/7/CocaColaZeroSugar_Lead.jpg?height=635&amp;t=1563981826&amp;width=1200\n",
            "[%] File Downloaded !\n",
            "\n",
            "\n",
            "\n",
            "[!!]Indexing page: 2\n",
            "\n",
            "[%] Indexed 35 Images on Page 2.\n",
            "\n",
            "===============================================\n",
            "\n",
            "[%] Downloading Image #27 from https://www.clickndrink.co.uk/wp-content/uploads/2020/03/58310023.jpg\n",
            "[%] File Downloaded !\n",
            "\n",
            "[%] Downloading Image #28 from https://sollykramersparkhurst.co.za/wp-content/uploads/2017/12/COCA-COLA-Soft-Drink-6-x-2l-.jpg\n",
            "[Error]Invalid image, not saving https://sollykramersparkhurst.co.za/wp-content/uploads/2017/12/COCA-COLA-Soft-Drink-6-x-2l-.jpg\n",
            "\n",
            "[!] Issue getting: https://sollykramersparkhurst.co.za/wp-content/uploads/2017/12/COCA-COLA-Soft-Drink-6-x-2l-.jpg\n",
            "[!] Error:: No active exception to reraise\n",
            "[%] Downloading Image #28 from https://cdn-image.foodandwine.com/sites/default/files/styles/4_3_horizontal_-_1200x900/public/1569963157/coca-cola-energy-drink-FT-BLOG0919.jpg?itok=rq5vrlul\n",
            "[%] File Downloaded !\n",
            "\n",
            "[%] Downloading Image #29 from https://s11284.pcdn.co/wp-content/uploads/2017/01/coca-cola.jpg\n",
            "[%] File Downloaded !\n",
            "\n",
            "[%] Downloading Image #30 from https://i.ytimg.com/vi/DvWFwRF3VEo/maxresdefault.jpg\n",
            "[%] File Downloaded !\n",
            "\n",
            "\n",
            "\n",
            "[%] Done. Downloaded 30 images.\n",
            "\n",
            "===============================================\n",
            "\n"
          ],
          "name": "stdout"
        }
      ]
    },
    {
      "cell_type": "code",
      "metadata": {
        "id": "N3n8IfBq6kZR"
      },
      "source": [
        "#preprocessing\r\n",
        "\r\n",
        "import numpy as np\r\n",
        "import pandas as pd\r\n",
        "import os\r\n",
        "import matplotlib.pyplot as plt\r\n",
        "from skimage.transform import resize\r\n",
        "from skimage.io import imread\r\n",
        "\r\n",
        "target = [] \r\n",
        "images = [] # Matrix Format\r\n",
        "flat_data = [] \r\n",
        "\r\n",
        "DATADIR = '/content/data'\r\n",
        "CATEGORIES = ['cake','coca cola drink','fried rice','kfc chicken']\r\n",
        "\r\n",
        "for category in CATEGORIES:\r\n",
        "  class_num = CATEGORIES.index(category) #label encoding\r\n",
        "  path = os.path.join(DATADIR,category)\r\n",
        "  for img in os.listdir(path):\r\n",
        "    img_array = imread(os.path.join(path,img))\r\n",
        "    #print(img_array.shape)\r\n",
        "    img_resized = resize(img_array,(150,150,3)) #normalizes to 0-1\r\n",
        "    flat_data.append(img_resized.flatten())\r\n",
        "    images.append(img_resized)\r\n",
        "    target.append(class_num)\r\n",
        "flat_data = np.array(flat_data)\r\n",
        "target = np.array(target) \r\n",
        "images = np.array(images)"
      ],
      "execution_count": 10,
      "outputs": []
    },
    {
      "cell_type": "code",
      "metadata": {
        "id": "3tLXx2KV-qYV",
        "colab": {
          "base_uri": "https://localhost:8080/"
        },
        "outputId": "9b9d5037-c2b1-4275-ece2-971d7ecbad8c"
      },
      "source": [
        "flat_data[0]"
      ],
      "execution_count": 12,
      "outputs": [
        {
          "output_type": "execute_result",
          "data": {
            "text/plain": [
              "array([0.14901961, 0.1372549 , 0.16470588, ..., 0.23918954, 0.20977778,\n",
              "       0.21369935])"
            ]
          },
          "metadata": {
            "tags": []
          },
          "execution_count": 12
        }
      ]
    },
    {
      "cell_type": "code",
      "metadata": {
        "colab": {
          "base_uri": "https://localhost:8080/"
        },
        "id": "LCQXfBl2HBwW",
        "outputId": "0f16ffb8-124d-412e-d6a5-dc816dc9c608"
      },
      "source": [
        "target"
      ],
      "execution_count": 13,
      "outputs": [
        {
          "output_type": "execute_result",
          "data": {
            "text/plain": [
              "array([0, 0, 0, 0, 0, 0, 0, 0, 0, 0, 0, 0, 0, 0, 0, 0, 0, 0, 0, 0, 0, 0,\n",
              "       0, 0, 0, 0, 0, 0, 0, 0, 1, 1, 1, 1, 1, 1, 1, 1, 1, 1, 1, 1, 1, 1,\n",
              "       1, 1, 1, 1, 1, 1, 1, 1, 1, 1, 1, 1, 1, 1, 1, 1, 2, 2, 2, 2, 2, 2,\n",
              "       2, 2, 2, 2, 2, 2, 2, 2, 2, 2, 2, 2, 2, 2, 2, 2, 2, 2, 2, 2, 2, 2,\n",
              "       2, 2, 3, 3, 3, 3, 3, 3, 3, 3, 3, 3, 3, 3, 3, 3, 3, 3, 3, 3, 3, 3,\n",
              "       3, 3, 3, 3, 3, 3, 3, 3, 3, 3])"
            ]
          },
          "metadata": {
            "tags": []
          },
          "execution_count": 13
        }
      ]
    },
    {
      "cell_type": "code",
      "metadata": {
        "colab": {
          "base_uri": "https://localhost:8080/",
          "height": 282
        },
        "id": "ve00psabHYuj",
        "outputId": "b6b23068-5dfd-43ad-ce61-5727217a535b"
      },
      "source": [
        "unique,count = np.unique(target,return_counts=True)\r\n",
        "plt.bar(CATEGORIES,count)"
      ],
      "execution_count": 16,
      "outputs": [
        {
          "output_type": "execute_result",
          "data": {
            "text/plain": [
              "<BarContainer object of 4 artists>"
            ]
          },
          "metadata": {
            "tags": []
          },
          "execution_count": 16
        },
        {
          "output_type": "display_data",
          "data": {
            "image/png": "[encoded data removed]",
            "text/plain": [
              "<Figure size 432x288 with 1 Axes>"
            ]
          },
          "metadata": {
            "tags": [],
            "needs_background": "light"
          }
        }
      ]
    },
    {
      "cell_type": "code",
      "metadata": {
        "id": "IO3xRRenHjTH"
      },
      "source": [
        "#splitiing of data into training and testing\r\n",
        "from sklearn.model_selection import train_test_split\r\n",
        "x_train,x_test,y_train,y_test = train_test_split(flat_data,target,test_size=0.3,random_state=20)"
      ],
      "execution_count": 107,
      "outputs": []
    },
    {
      "cell_type": "code",
      "metadata": {
        "colab": {
          "base_uri": "https://localhost:8080/"
        },
        "id": "4xUHQTqPKhxP",
        "outputId": "97d10b62-b799-4abf-88d9-654c5d42bf97"
      },
      "source": [
        "#grid search cv to get the best svm parameters \r\n",
        "from sklearn.model_selection import GridSearchCV\r\n",
        "from sklearn import svm\r\n",
        "param_grid = [\r\n",
        "               {'C':[0.1,10,100],'kernel':['linear']},\r\n",
        "               {'C':[0.1,10,100],'gamma':[0.001,0.0001],'kernel':['rbf']}\r\n",
        "]\r\n",
        "\r\n",
        "svc = svm.SVC(probability=True)\r\n",
        "clf = GridSearchCV(svc,param_grid)\r\n",
        "clf.fit(x_train,y_train)"
      ],
      "execution_count": 108,
      "outputs": [
        {
          "output_type": "execute_result",
          "data": {
            "text/plain": [
              "GridSearchCV(cv=None, error_score=nan,\n",
              "             estimator=SVC(C=1.0, break_ties=False, cache_size=200,\n",
              "                           class_weight=None, coef0=0.0,\n",
              "                           decision_function_shape='ovr', degree=3,\n",
              "                           gamma='scale', kernel='rbf', max_iter=-1,\n",
              "                           probability=True, random_state=None, shrinking=True,\n",
              "                           tol=0.001, verbose=False),\n",
              "             iid='deprecated', n_jobs=None,\n",
              "             param_grid=[{'C': [0.1, 10, 100], 'kernel': ['linear']},\n",
              "                         {'C': [0.1, 10, 100], 'gamma': [0.001, 0.0001],\n",
              "                          'kernel': ['rbf']}],\n",
              "             pre_dispatch='2*n_jobs', refit=True, return_train_score=False,\n",
              "             scoring=None, verbose=0)"
            ]
          },
          "metadata": {
            "tags": []
          },
          "execution_count": 108
        }
      ]
    },
    {
      "cell_type": "code",
      "metadata": {
        "colab": {
          "base_uri": "https://localhost:8080/"
        },
        "id": "_wpkAvDwMm1L",
        "outputId": "6b1e685e-40ea-400c-937b-1a8b0b75c37b"
      },
      "source": [
        "y_pred = clf.predict(x_test)\r\n",
        "y_pred"
      ],
      "execution_count": 109,
      "outputs": [
        {
          "output_type": "execute_result",
          "data": {
            "text/plain": [
              "array([1, 2, 0, 1, 0, 2, 3, 0, 2, 1, 2, 1, 1, 2, 0, 1, 3, 2, 2, 3, 1, 1,\n",
              "       2, 2, 3, 1, 0, 0, 1, 0, 3, 3, 3, 0, 1, 0])"
            ]
          },
          "metadata": {
            "tags": []
          },
          "execution_count": 109
        }
      ]
    },
    {
      "cell_type": "code",
      "metadata": {
        "colab": {
          "base_uri": "https://localhost:8080/"
        },
        "id": "RhGSSd7TXhGU",
        "outputId": "3b02e5d9-535e-4ea0-e37e-7ef000c6467d"
      },
      "source": [
        "y_test"
      ],
      "execution_count": 110,
      "outputs": [
        {
          "output_type": "execute_result",
          "data": {
            "text/plain": [
              "array([1, 2, 1, 3, 3, 2, 0, 1, 0, 1, 0, 1, 1, 2, 1, 1, 3, 2, 2, 3, 1, 1,\n",
              "       2, 2, 3, 1, 0, 0, 1, 0, 3, 3, 3, 1, 1, 0])"
            ]
          },
          "metadata": {
            "tags": []
          },
          "execution_count": 110
        }
      ]
    },
    {
      "cell_type": "code",
      "metadata": {
        "id": "H4q9KFigXk8h"
      },
      "source": [
        "from sklearn.metrics import accuracy_score,confusion_matrix,classification_report"
      ],
      "execution_count": 140,
      "outputs": []
    },
    {
      "cell_type": "code",
      "metadata": {
        "colab": {
          "base_uri": "https://localhost:8080/"
        },
        "id": "Qg6-Y6GjX1ZX",
        "outputId": "e5d867cc-28ab-498d-aa34-0e5779d91e3a"
      },
      "source": [
        "accuracy_score(y_pred,y_test)"
      ],
      "execution_count": 112,
      "outputs": [
        {
          "output_type": "execute_result",
          "data": {
            "text/plain": [
              "0.75"
            ]
          },
          "metadata": {
            "tags": []
          },
          "execution_count": 112
        }
      ]
    },
    {
      "cell_type": "code",
      "metadata": {
        "colab": {
          "base_uri": "https://localhost:8080/"
        },
        "id": "DHl0AQWfYEu8",
        "outputId": "893ae402-984c-4e73-da9c-583c941eea8c"
      },
      "source": [
        "confusion_matrix(y_pred,y_test)"
      ],
      "execution_count": 113,
      "outputs": [
        {
          "output_type": "execute_result",
          "data": {
            "text/plain": [
              "array([[ 4,  4,  0,  1],\n",
              "       [ 0, 10,  0,  1],\n",
              "       [ 2,  0,  7,  0],\n",
              "       [ 1,  0,  0,  6]])"
            ]
          },
          "metadata": {
            "tags": []
          },
          "execution_count": 113
        }
      ]
    },
    {
      "cell_type": "code",
      "metadata": {
        "colab": {
          "base_uri": "https://localhost:8080/"
        },
        "id": "mPrKutJeM9Sj",
        "outputId": "11302c8c-d481-4751-8ed1-5818311ba9aa"
      },
      "source": [
        "print(classification_report(y_pred,y_test))"
      ],
      "execution_count": 141,
      "outputs": [
        {
          "output_type": "stream",
          "text": [
            "              precision    recall  f1-score   support\n",
            "\n",
            "           0       0.57      0.44      0.50         9\n",
            "           1       0.71      0.91      0.80        11\n",
            "           2       1.00      0.78      0.88         9\n",
            "           3       0.75      0.86      0.80         7\n",
            "\n",
            "    accuracy                           0.75        36\n",
            "   macro avg       0.76      0.75      0.74        36\n",
            "weighted avg       0.76      0.75      0.74        36\n",
            "\n"
          ],
          "name": "stdout"
        }
      ]
    },
    {
      "cell_type": "code",
      "metadata": {
        "id": "6ZFMnTbjgmXf"
      },
      "source": [
        "#save the model\r\n",
        "import pickle\r\n",
        "pickle.dump(clf,open('img_model.p','wb'))"
      ],
      "execution_count": 114,
      "outputs": []
    },
    {
      "cell_type": "code",
      "metadata": {
        "colab": {
          "base_uri": "https://localhost:8080/",
          "height": 339
        },
        "id": "KA6K8Z6XC902",
        "outputId": "2c8c4f8d-ce64-4207-acb5-dab63b80fa49"
      },
      "source": [
        "#testing  new image\r\n",
        "flat_data = []\r\n",
        "url = input('Enter your URL')\r\n",
        "img = imread(url)\r\n",
        "img_resized = resize(img,(150,150,3))\r\n",
        "flat_data.append(img_resized.flatten())\r\n",
        "flat_data = np.array(flat_data)\r\n",
        "print(img.shape)\r\n",
        "plt.imshow(img_resized)\r\n",
        "y_out = model.predict(flat_data)\r\n",
        "y_out = CATEGORIES[y_out[0]]\r\n",
        "print(f' PREDICTED OUTPUT: {y_out}')"
      ],
      "execution_count": 138,
      "outputs": [
        {
          "output_type": "stream",
          "text": [
            "Enter your URLhttps://i2.wp.com/www.eatthis.com/wp-content/uploads//media/images/ext/966368714/kfc-original-chicken-recipe.jpg?resize=640%2C360&ssl=1\n",
            "(360, 640, 3)\n",
            " PREDICTED OUTPUT: kfc chicken\n"
          ],
          "name": "stdout"
        },
        {
          "output_type": "display_data",
          "data": {
            "image/png": "[encoded data removed]",
            "text/plain": [
              "<Figure size 432x288 with 1 Axes>"
            ]
          },
          "metadata": {
            "tags": [],
            "needs_background": "light"
          }
        }
      ]
    },
    {
      "cell_type": "code",
      "metadata": {
        "id": "RYRT2o2sFM1V"
      },
      "source": [
        ""
      ],
      "execution_count": null,
      "outputs": []
    }
  ]
}